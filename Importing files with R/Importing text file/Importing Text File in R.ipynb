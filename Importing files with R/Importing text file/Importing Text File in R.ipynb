{
 "cells": [
  {
   "cell_type": "code",
   "execution_count": 1,
   "metadata": {},
   "outputs": [
    {
     "data": {
      "text/html": [
       "'C:/Users/acer/Desktop/data science/R'"
      ],
      "text/latex": [
       "'C:/Users/acer/Desktop/data science/R'"
      ],
      "text/markdown": [
       "'C:/Users/acer/Desktop/data science/R'"
      ],
      "text/plain": [
       "[1] \"C:/Users/acer/Desktop/data science/R\""
      ]
     },
     "metadata": {},
     "output_type": "display_data"
    }
   ],
   "source": [
    "setwd(\"C:/Users/acer/Desktop/data science/R\")\n",
    "getwd()"
   ]
  },
  {
   "cell_type": "code",
   "execution_count": 2,
   "metadata": {},
   "outputs": [
    {
     "data": {
      "text/html": [
       "<table>\n",
       "<caption>A data.frame: 3 × 3</caption>\n",
       "<thead>\n",
       "\t<tr><th scope=col>Id</th><th scope=col>Name</th><th scope=col>DEPARTMENT</th></tr>\n",
       "\t<tr><th scope=col>&lt;int&gt;</th><th scope=col>&lt;fct&gt;</th><th scope=col>&lt;fct&gt;</th></tr>\n",
       "</thead>\n",
       "<tbody>\n",
       "\t<tr><td>1</td><td>JEFF</td><td>SALES      </td></tr>\n",
       "\t<tr><td>2</td><td>JANE</td><td>MARKETING  </td></tr>\n",
       "\t<tr><td>3</td><td>ADAM</td><td>ENGINEERING</td></tr>\n",
       "</tbody>\n",
       "</table>\n"
      ],
      "text/latex": [
       "A data.frame: 3 × 3\n",
       "\\begin{tabular}{lll}\n",
       " Id & Name & DEPARTMENT\\\\\n",
       " <int> & <fct> & <fct>\\\\\n",
       "\\hline\n",
       "\t 1 & JEFF & SALES      \\\\\n",
       "\t 2 & JANE & MARKETING  \\\\\n",
       "\t 3 & ADAM & ENGINEERING\\\\\n",
       "\\end{tabular}\n"
      ],
      "text/markdown": [
       "\n",
       "A data.frame: 3 × 3\n",
       "\n",
       "| Id &lt;int&gt; | Name &lt;fct&gt; | DEPARTMENT &lt;fct&gt; |\n",
       "|---|---|---|\n",
       "| 1 | JEFF | SALES       |\n",
       "| 2 | JANE | MARKETING   |\n",
       "| 3 | ADAM | ENGINEERING |\n",
       "\n"
      ],
      "text/plain": [
       "  Id Name DEPARTMENT \n",
       "1 1  JEFF SALES      \n",
       "2 2  JANE MARKETING  \n",
       "3 3  ADAM ENGINEERING"
      ]
     },
     "metadata": {},
     "output_type": "display_data"
    }
   ],
   "source": [
    "my_data <- read.table(\"Data.txt\", header= TRUE)\n",
    "my_data\n"
   ]
  },
  {
   "cell_type": "code",
   "execution_count": 3,
   "metadata": {},
   "outputs": [
    {
     "name": "stdout",
     "output_type": "stream",
     "text": [
      "'data.frame':\t3 obs. of  3 variables:\n",
      " $ Id        : int  1 2 3\n",
      " $ Name      : Factor w/ 3 levels \"ADAM\",\"JANE\",..: 3 2 1\n",
      " $ DEPARTMENT: Factor w/ 3 levels \"ENGINEERING\",..: 3 2 1\n"
     ]
    }
   ],
   "source": [
    "str(my_data)"
   ]
  },
  {
   "cell_type": "code",
   "execution_count": 6,
   "metadata": {},
   "outputs": [
    {
     "name": "stdout",
     "output_type": "stream",
     "text": [
      "'data.frame':\t3 obs. of  3 variables:\n",
      " $ Id        : int  1 2 3\n",
      " $ Name      : chr  \"JEFF\" \"JANE\" \"ADAM\"\n",
      " $ DEPARTMENT: chr  \"SALES\" \"MARKETING\" \"ENGINEERING\"\n"
     ]
    }
   ],
   "source": [
    "#convert the factor representation of strings to char\n",
    "my_data <- read.table(\"Data.txt\", header= TRUE, stringsAsFactors = FALSE)\n",
    "str(my_data)"
   ]
  },
  {
   "cell_type": "code",
   "execution_count": 8,
   "metadata": {},
   "outputs": [
    {
     "data": {
      "text/html": [
       "<table>\n",
       "<caption>A data.frame: 1 × 3</caption>\n",
       "<thead>\n",
       "\t<tr><th scope=col>X2</th><th scope=col>JANE</th><th scope=col>MARKETING</th></tr>\n",
       "\t<tr><th scope=col>&lt;int&gt;</th><th scope=col>&lt;chr&gt;</th><th scope=col>&lt;chr&gt;</th></tr>\n",
       "</thead>\n",
       "<tbody>\n",
       "\t<tr><td>3</td><td>ADAM</td><td>ENGINEERING</td></tr>\n",
       "</tbody>\n",
       "</table>\n"
      ],
      "text/latex": [
       "A data.frame: 1 × 3\n",
       "\\begin{tabular}{lll}\n",
       " X2 & JANE & MARKETING\\\\\n",
       " <int> & <chr> & <chr>\\\\\n",
       "\\hline\n",
       "\t 3 & ADAM & ENGINEERING\\\\\n",
       "\\end{tabular}\n"
      ],
      "text/markdown": [
       "\n",
       "A data.frame: 1 × 3\n",
       "\n",
       "| X2 &lt;int&gt; | JANE &lt;chr&gt; | MARKETING &lt;chr&gt; |\n",
       "|---|---|---|\n",
       "| 3 | ADAM | ENGINEERING |\n",
       "\n"
      ],
      "text/plain": [
       "  X2 JANE MARKETING  \n",
       "1 3  ADAM ENGINEERING"
      ]
     },
     "metadata": {},
     "output_type": "display_data"
    }
   ],
   "source": [
    "#used to skip any amount of lines\n",
    "my_data <- read.table(\"Data.txt\", header= TRUE, stringsAsFactors = FALSE , skip =2)\n",
    "my_data"
   ]
  },
  {
   "cell_type": "code",
   "execution_count": 9,
   "metadata": {},
   "outputs": [
    {
     "data": {
      "text/html": [
       "<table>\n",
       "<caption>A data.frame: 3 × 3</caption>\n",
       "<thead>\n",
       "\t<tr><th scope=col>Id</th><th scope=col>Name</th><th scope=col>DEPARTMENT</th></tr>\n",
       "\t<tr><th scope=col>&lt;int&gt;</th><th scope=col>&lt;fct&gt;</th><th scope=col>&lt;fct&gt;</th></tr>\n",
       "</thead>\n",
       "<tbody>\n",
       "\t<tr><td>1</td><td>JEFF</td><td>SALES      </td></tr>\n",
       "\t<tr><td>2</td><td>JANE</td><td>MARKETING  </td></tr>\n",
       "\t<tr><td>3</td><td>ADAM</td><td>ENGINEERING</td></tr>\n",
       "</tbody>\n",
       "</table>\n"
      ],
      "text/latex": [
       "A data.frame: 3 × 3\n",
       "\\begin{tabular}{lll}\n",
       " Id & Name & DEPARTMENT\\\\\n",
       " <int> & <fct> & <fct>\\\\\n",
       "\\hline\n",
       "\t 1 & JEFF & SALES      \\\\\n",
       "\t 2 & JANE & MARKETING  \\\\\n",
       "\t 3 & ADAM & ENGINEERING\\\\\n",
       "\\end{tabular}\n"
      ],
      "text/markdown": [
       "\n",
       "A data.frame: 3 × 3\n",
       "\n",
       "| Id &lt;int&gt; | Name &lt;fct&gt; | DEPARTMENT &lt;fct&gt; |\n",
       "|---|---|---|\n",
       "| 1 | JEFF | SALES       |\n",
       "| 2 | JANE | MARKETING   |\n",
       "| 3 | ADAM | ENGINEERING |\n",
       "\n"
      ],
      "text/plain": [
       "  Id Name DEPARTMENT \n",
       "1 1  JEFF SALES      \n",
       "2 2  JANE MARKETING  \n",
       "3 3  ADAM ENGINEERING"
      ]
     },
     "metadata": {},
     "output_type": "display_data"
    }
   ],
   "source": [
    "my_data <- read.table(\"Data.txt\", header= TRUE, sep='')\n",
    "my_data\n"
   ]
  },
  {
   "cell_type": "code",
   "execution_count": 2,
   "metadata": {},
   "outputs": [
    {
     "data": {
      "text/html": [
       "<table>\n",
       "<caption>A data.frame: 2 × 3</caption>\n",
       "<thead>\n",
       "\t<tr><th scope=col>id</th><th scope=col>name</th><th scope=col>Salary</th></tr>\n",
       "\t<tr><th scope=col>&lt;int&gt;</th><th scope=col>&lt;chr&gt;</th><th scope=col>&lt;chr&gt;</th></tr>\n",
       "</thead>\n",
       "<tbody>\n",
       "\t<tr><td>2</td><td>JANE</td><td>MARKETING  </td></tr>\n",
       "\t<tr><td>3</td><td>ADAM</td><td>ENGINEERING</td></tr>\n",
       "</tbody>\n",
       "</table>\n"
      ],
      "text/latex": [
       "A data.frame: 2 × 3\n",
       "\\begin{tabular}{lll}\n",
       " id & name & Salary\\\\\n",
       " <int> & <chr> & <chr>\\\\\n",
       "\\hline\n",
       "\t 2 & JANE & MARKETING  \\\\\n",
       "\t 3 & ADAM & ENGINEERING\\\\\n",
       "\\end{tabular}\n"
      ],
      "text/markdown": [
       "\n",
       "A data.frame: 2 × 3\n",
       "\n",
       "| id &lt;int&gt; | name &lt;chr&gt; | Salary &lt;chr&gt; |\n",
       "|---|---|---|\n",
       "| 2 | JANE | MARKETING   |\n",
       "| 3 | ADAM | ENGINEERING |\n",
       "\n"
      ],
      "text/plain": [
       "  id name Salary     \n",
       "1 2  JANE MARKETING  \n",
       "2 3  ADAM ENGINEERING"
      ]
     },
     "metadata": {},
     "output_type": "display_data"
    }
   ],
   "source": [
    "my_data <- read.table(\"Data.txt\", header= FALSE, stringsAsFactors = FALSE , skip =2, nrows=3,col.names=c(\"id\",\"name\",\"Salary\"))\n",
    "my_data"
   ]
  },
  {
   "cell_type": "code",
   "execution_count": null,
   "metadata": {},
   "outputs": [],
   "source": []
  }
 ],
 "metadata": {
  "kernelspec": {
   "display_name": "R",
   "language": "R",
   "name": "ir"
  },
  "language_info": {
   "codemirror_mode": "r",
   "file_extension": ".r",
   "mimetype": "text/x-r-source",
   "name": "R",
   "pygments_lexer": "r",
   "version": "3.6.3"
  }
 },
 "nbformat": 4,
 "nbformat_minor": 4
}
